{
 "cells": [
  {
   "cell_type": "code",
   "execution_count": 1,
   "id": "7a5443ca",
   "metadata": {},
   "outputs": [],
   "source": [
    "import random\n",
    "from collections import defaultdict\n",
    "import re"
   ]
  },
  {
   "cell_type": "code",
   "execution_count": 2,
   "id": "55fac388",
   "metadata": {},
   "outputs": [],
   "source": [
    "class MarkovChainTextGenerator:\n",
    "    def __init__(self, n = 3):\n",
    "        self.model = defaultdict(list)\n",
    "        self.n = n\n",
    "    \n",
    "    def train(self, text):\n",
    "        words = text.split()\n",
    "        if(len(words) - self.n <= 0):\n",
    "            print(\"Training text too low!\")\n",
    "            return\n",
    "        \n",
    "        for i in range(len(words) - self.n):\n",
    "            key = tuple(words[i:i + self.n])\n",
    "            next_word = words[i + self.n]\n",
    "            self.model[key].append(next_word)\n",
    "\n",
    "    def generate_text(self, seed_text, num_words = 20):\n",
    "        words = seed_text.split()\n",
    "        if len(words) < self.n:\n",
    "            key = random.choice(list(self.model.keys()))\n",
    "        else:\n",
    "            key = tuple(words[-self.n:])\n",
    "            if key not in self.model:\n",
    "                key = random.choice(list(self.model.keys()))\n",
    "\n",
    "        result = list(key)\n",
    "\n",
    "        for _ in range(num_words):\n",
    "            next_words = self.model.get(key)\n",
    "            if not next_words:\n",
    "                break\n",
    "            next_word = random.choice(next_words)\n",
    "            result.append(next_word)\n",
    "            key = tuple(result[-self.n:])\n",
    "            \n",
    "        return \" \".join(result)"
   ]
  },
  {
   "cell_type": "code",
   "execution_count": 3,
   "id": "d94daa29",
   "metadata": {},
   "outputs": [
    {
     "name": "stdout",
     "output_type": "stream",
     "text": [
      "('the', 'cat', 'sat') -> ['on']\n",
      "('cat', 'sat', 'on') -> ['the']\n",
      "('sat', 'on', 'the') -> ['mat']\n",
      "('on', 'the', 'mat') -> ['and']\n",
      "('the', 'mat', 'and') -> ['the']\n",
      "('mat', 'and', 'the') -> ['cat']\n",
      "('and', 'the', 'cat') -> ['lay']\n",
      "('the', 'cat', 'lay') -> ['on']\n",
      "('cat', 'lay', 'on') -> ['the']\n",
      "('lay', 'on', 'the') -> ['rug']\n",
      "('on', 'the', 'rug') -> ['and']\n",
      "('the', 'rug', 'and') -> ['the']\n",
      "('rug', 'and', 'the') -> ['dog']\n",
      "('and', 'the', 'dog') -> ['barked']\n"
     ]
    }
   ],
   "source": [
    "text = \"the cat sat on the mat and the cat lay on the rug and the dog barked\"\n",
    "\n",
    "generator = MarkovChainTextGenerator()\n",
    "generator.train(text)\n",
    "\n",
    "for word, next_words in generator.model.items():\n",
    "    print(f\"{word} -> {next_words}\")"
   ]
  },
  {
   "cell_type": "code",
   "execution_count": 4,
   "id": "9f7ee0e7",
   "metadata": {},
   "outputs": [
    {
     "name": "stdout",
     "output_type": "stream",
     "text": [
      "the cat sat on the mat and the cat lay on the rug and the dog barked\n"
     ]
    }
   ],
   "source": [
    "print(generator.generate_text(\"the cat sat\", 15))"
   ]
  },
  {
   "cell_type": "code",
   "execution_count": 5,
   "id": "c7f435df",
   "metadata": {},
   "outputs": [],
   "source": [
    "def clean_shakespeare_text(text):\n",
    "    # Remove Project Gutenberg header/footer\n",
    "    start_marker = \"*** START OF\"\n",
    "    end_marker = \"*** END OF\"\n",
    "    start = text.find(start_marker)\n",
    "    end = text.find(end_marker)\n",
    "    if start != -1 and end != -1:\n",
    "        text = text[start:end]\n",
    "\n",
    "    # Remove stage directions in brackets [ ... ]\n",
    "    text = re.sub(r'\\[.*?\\]', '', text)\n",
    "\n",
    "    # Remove all-uppercase lines (usually character names and stage notes)\n",
    "    lines = text.split('\\n')\n",
    "    cleaned_lines = []\n",
    "    for line in lines:\n",
    "        stripped = line.strip()\n",
    "        if not stripped.isupper() and len(stripped) > 0:\n",
    "            cleaned_lines.append(stripped)\n",
    "    text = ' '.join(cleaned_lines)\n",
    "\n",
    "    # Normalize whitespace\n",
    "    text = re.sub(r'\\s+', ' ', text)\n",
    "\n",
    "    return text\n"
   ]
  },
  {
   "cell_type": "code",
   "execution_count": null,
   "id": "de7487c6",
   "metadata": {},
   "outputs": [],
   "source": [
    "with open(\"./shakespeare.txt\", \"r\", encoding=\"utf-8\") as f:\n",
    "    text = f.read()\n",
    "    \n",
    "cleaned_text = clean_shakespeare_text(text)\n",
    "\n",
    "generator = MarkovChainTextGenerator(n=3)\n",
    "generator.train(cleaned_text)"
   ]
  },
  {
   "cell_type": "code",
   "execution_count": 7,
   "id": "fb9c8e2c",
   "metadata": {},
   "outputs": [],
   "source": [
    "generator = MarkovChainTextGenerator(n=3)\n",
    "generator.train(text)"
   ]
  },
  {
   "cell_type": "code",
   "execution_count": 8,
   "id": "3be201e3",
   "metadata": {},
   "outputs": [
    {
     "name": "stdout",
     "output_type": "stream",
     "text": [
      "To bear such idleness so near the truth as I will desires among five thousand, and five hundred too. CAIUS. By gar, then I have as much mockvater as de Englishman. Scurvy jack-dog priest! By gar, me vill kill de priest, for he speak for a jackanape to Anne Page. HOST. Let him\n"
     ]
    }
   ],
   "source": [
    "print(generator.generate_text(\"To bear such\", 50))"
   ]
  }
 ],
 "metadata": {
  "kernelspec": {
   "display_name": "Python 3",
   "language": "python",
   "name": "python3"
  },
  "language_info": {
   "codemirror_mode": {
    "name": "ipython",
    "version": 3
   },
   "file_extension": ".py",
   "mimetype": "text/x-python",
   "name": "python",
   "nbconvert_exporter": "python",
   "pygments_lexer": "ipython3",
   "version": "3.12.10"
  }
 },
 "nbformat": 4,
 "nbformat_minor": 5
}
